{
 "cells": [
  {
   "cell_type": "markdown",
   "id": "d22fc2b1",
   "metadata": {},
   "source": [
    "# AI4\n",
    "## This is project No.4 and the aim of this project is to learn machine learning methods using the Learn-Scikit library.\n",
    "\n",
    "### Introduction\n",
    "This project is defined in four phases. In phase zero, we examine the data set and analyze the exploratory data. In the first phase, we will get familiar with preprocessing. In the second phase, we will implement and optimize models using several classifiers defined in the Learn-Scikit library. Finally, in the third phase, using the optimal models of the second phase, we will implement several group learning methods and analyze the results."
   ]
  },
  {
   "cell_type": "code",
   "execution_count": 667,
   "id": "8b88ee4f",
   "metadata": {},
   "outputs": [],
   "source": [
    "import pandas as pd\n",
    "import numpy as np\n",
    "import seaborn as sns\n",
    "import matplotlib.pyplot as plt\n",
    "from sklearn.preprocessing import LabelEncoder\n",
    "from sklearn.feature_selection import mutual_info_classif\n",
    "from sklearn.model_selection import train_test_split\n",
    "from sklearn.neighbors import KNeighborsClassifier\n",
    "from sklearn.tree import DecisionTreeClassifier\n",
    "from sklearn.metrics import recall_score, precision_score, f1_score, accuracy_score, confusion_matrix\n",
    "from math import sqrt\n",
    "from sklearn import metrics\n",
    "from sklearn.ensemble import RandomForestClassifier"
   ]
  },
  {
   "cell_type": "code",
   "execution_count": 668,
   "id": "fa91ceec",
   "metadata": {},
   "outputs": [
    {
     "data": {
      "text/html": [
       "<div>\n",
       "<style scoped>\n",
       "    .dataframe tbody tr th:only-of-type {\n",
       "        vertical-align: middle;\n",
       "    }\n",
       "\n",
       "    .dataframe tbody tr th {\n",
       "        vertical-align: top;\n",
       "    }\n",
       "\n",
       "    .dataframe thead th {\n",
       "        text-align: right;\n",
       "    }\n",
       "</style>\n",
       "<table border=\"1\" class=\"dataframe\">\n",
       "  <thead>\n",
       "    <tr style=\"text-align: right;\">\n",
       "      <th></th>\n",
       "      <th>artist_name</th>\n",
       "      <th>track_name</th>\n",
       "      <th>popularity</th>\n",
       "      <th>acousticness</th>\n",
       "      <th>danceability</th>\n",
       "      <th>duration_ms</th>\n",
       "      <th>energy</th>\n",
       "      <th>instrumentalness</th>\n",
       "      <th>key</th>\n",
       "      <th>liveness</th>\n",
       "      <th>loudness</th>\n",
       "      <th>mode</th>\n",
       "      <th>speechiness</th>\n",
       "      <th>tempo</th>\n",
       "      <th>valence</th>\n",
       "      <th>music_genre</th>\n",
       "    </tr>\n",
       "  </thead>\n",
       "  <tbody>\n",
       "    <tr>\n",
       "      <th>0</th>\n",
       "      <td>Blockhead</td>\n",
       "      <td>Cheer up, You're Not Dead Yet</td>\n",
       "      <td>44.0</td>\n",
       "      <td>0.00621</td>\n",
       "      <td>0.711</td>\n",
       "      <td>285987.0</td>\n",
       "      <td>0.6210</td>\n",
       "      <td>0.029700</td>\n",
       "      <td>G</td>\n",
       "      <td>0.1590</td>\n",
       "      <td>-7.429</td>\n",
       "      <td>Major</td>\n",
       "      <td>0.0382</td>\n",
       "      <td>142.065</td>\n",
       "      <td>0.6070</td>\n",
       "      <td>Jazz</td>\n",
       "    </tr>\n",
       "    <tr>\n",
       "      <th>1</th>\n",
       "      <td>FloFilz</td>\n",
       "      <td>Corners</td>\n",
       "      <td>34.0</td>\n",
       "      <td>0.34700</td>\n",
       "      <td>0.729</td>\n",
       "      <td>103703.0</td>\n",
       "      <td>0.5150</td>\n",
       "      <td>0.006920</td>\n",
       "      <td>C</td>\n",
       "      <td>0.1270</td>\n",
       "      <td>-10.147</td>\n",
       "      <td>Major</td>\n",
       "      <td>0.1840</td>\n",
       "      <td>79.969</td>\n",
       "      <td>0.2870</td>\n",
       "      <td>Jazz</td>\n",
       "    </tr>\n",
       "    <tr>\n",
       "      <th>2</th>\n",
       "      <td>Bonobo</td>\n",
       "      <td>We Could Forever</td>\n",
       "      <td>51.0</td>\n",
       "      <td>0.01810</td>\n",
       "      <td>0.669</td>\n",
       "      <td>NaN</td>\n",
       "      <td>0.8850</td>\n",
       "      <td>0.880000</td>\n",
       "      <td>G</td>\n",
       "      <td>0.2650</td>\n",
       "      <td>-7.080</td>\n",
       "      <td>Minor</td>\n",
       "      <td>0.0378</td>\n",
       "      <td>NaN</td>\n",
       "      <td>0.6360</td>\n",
       "      <td>Jazz</td>\n",
       "    </tr>\n",
       "    <tr>\n",
       "      <th>3</th>\n",
       "      <td>Nils Landgren</td>\n",
       "      <td>A Child Is Born</td>\n",
       "      <td>39.0</td>\n",
       "      <td>0.91800</td>\n",
       "      <td>0.484</td>\n",
       "      <td>228733.0</td>\n",
       "      <td>0.0693</td>\n",
       "      <td>0.000069</td>\n",
       "      <td>F</td>\n",
       "      <td>0.1390</td>\n",
       "      <td>-15.542</td>\n",
       "      <td>Major</td>\n",
       "      <td>0.0346</td>\n",
       "      <td>82.707</td>\n",
       "      <td>0.2060</td>\n",
       "      <td>Jazz</td>\n",
       "    </tr>\n",
       "    <tr>\n",
       "      <th>4</th>\n",
       "      <td>Masayoshi Takanaka</td>\n",
       "      <td>Samba Pati</td>\n",
       "      <td>36.0</td>\n",
       "      <td>0.03450</td>\n",
       "      <td>0.473</td>\n",
       "      <td>342867.0</td>\n",
       "      <td>0.8230</td>\n",
       "      <td>0.446000</td>\n",
       "      <td>G</td>\n",
       "      <td>0.3060</td>\n",
       "      <td>-6.625</td>\n",
       "      <td>Major</td>\n",
       "      <td>0.0630</td>\n",
       "      <td>104.694</td>\n",
       "      <td>0.3830</td>\n",
       "      <td>Jazz</td>\n",
       "    </tr>\n",
       "    <tr>\n",
       "      <th>...</th>\n",
       "      <td>...</td>\n",
       "      <td>...</td>\n",
       "      <td>...</td>\n",
       "      <td>...</td>\n",
       "      <td>...</td>\n",
       "      <td>...</td>\n",
       "      <td>...</td>\n",
       "      <td>...</td>\n",
       "      <td>...</td>\n",
       "      <td>...</td>\n",
       "      <td>...</td>\n",
       "      <td>...</td>\n",
       "      <td>...</td>\n",
       "      <td>...</td>\n",
       "      <td>...</td>\n",
       "      <td>...</td>\n",
       "    </tr>\n",
       "    <tr>\n",
       "      <th>29995</th>\n",
       "      <td>Wolfgang Amadeus Mozart</td>\n",
       "      <td>Die Zauberflöte, K. 620: Wie stark ist nicht d...</td>\n",
       "      <td>22.0</td>\n",
       "      <td>0.91100</td>\n",
       "      <td>0.326</td>\n",
       "      <td>368640.0</td>\n",
       "      <td>0.1330</td>\n",
       "      <td>0.000000</td>\n",
       "      <td>G</td>\n",
       "      <td>0.1300</td>\n",
       "      <td>-20.493</td>\n",
       "      <td>Major</td>\n",
       "      <td>0.0557</td>\n",
       "      <td>92.090</td>\n",
       "      <td>0.2060</td>\n",
       "      <td>Classical</td>\n",
       "    </tr>\n",
       "    <tr>\n",
       "      <th>29996</th>\n",
       "      <td>New York Philharmonic</td>\n",
       "      <td>Symphony No. 2 in D Major, Op. 73: II. Adagio ...</td>\n",
       "      <td>26.0</td>\n",
       "      <td>0.96500</td>\n",
       "      <td>0.126</td>\n",
       "      <td>514213.0</td>\n",
       "      <td>0.2040</td>\n",
       "      <td>0.869000</td>\n",
       "      <td>B</td>\n",
       "      <td>0.1060</td>\n",
       "      <td>-16.474</td>\n",
       "      <td>Major</td>\n",
       "      <td>0.0395</td>\n",
       "      <td>82.437</td>\n",
       "      <td>0.0387</td>\n",
       "      <td>Classical</td>\n",
       "    </tr>\n",
       "    <tr>\n",
       "      <th>29997</th>\n",
       "      <td>Georges Bizet</td>\n",
       "      <td>Bizet: Carmen, WD 31, Act 1 Scene 4: No. 5, Ha...</td>\n",
       "      <td>54.0</td>\n",
       "      <td>0.97600</td>\n",
       "      <td>0.363</td>\n",
       "      <td>262147.0</td>\n",
       "      <td>0.1150</td>\n",
       "      <td>0.000000</td>\n",
       "      <td>D</td>\n",
       "      <td>0.0992</td>\n",
       "      <td>-17.325</td>\n",
       "      <td>Major</td>\n",
       "      <td>0.0689</td>\n",
       "      <td>NaN</td>\n",
       "      <td>0.2310</td>\n",
       "      <td>Classical</td>\n",
       "    </tr>\n",
       "    <tr>\n",
       "      <th>29998</th>\n",
       "      <td>Edvard Grieg</td>\n",
       "      <td>Peer Gynt-Suite Nr. 1, Op. 46: I. Morning</td>\n",
       "      <td>42.0</td>\n",
       "      <td>0.98500</td>\n",
       "      <td>0.123</td>\n",
       "      <td>259573.0</td>\n",
       "      <td>0.0174</td>\n",
       "      <td>0.906000</td>\n",
       "      <td>E</td>\n",
       "      <td>0.1250</td>\n",
       "      <td>-23.671</td>\n",
       "      <td>Major</td>\n",
       "      <td>0.0408</td>\n",
       "      <td>71.705</td>\n",
       "      <td>0.0352</td>\n",
       "      <td>Classical</td>\n",
       "    </tr>\n",
       "    <tr>\n",
       "      <th>29999</th>\n",
       "      <td>Johann Sebastian Bach</td>\n",
       "      <td>Suite No. 2 in B Minor, BWV 1067: VI. Menuet</td>\n",
       "      <td>36.0</td>\n",
       "      <td>0.77200</td>\n",
       "      <td>0.486</td>\n",
       "      <td>74600.0</td>\n",
       "      <td>0.1570</td>\n",
       "      <td>0.906000</td>\n",
       "      <td>G#</td>\n",
       "      <td>0.1470</td>\n",
       "      <td>-19.078</td>\n",
       "      <td>Minor</td>\n",
       "      <td>0.0375</td>\n",
       "      <td>124.737</td>\n",
       "      <td>0.6190</td>\n",
       "      <td>Classical</td>\n",
       "    </tr>\n",
       "  </tbody>\n",
       "</table>\n",
       "<p>30000 rows × 16 columns</p>\n",
       "</div>"
      ],
      "text/plain": [
       "                   artist_name  \\\n",
       "0                    Blockhead   \n",
       "1                      FloFilz   \n",
       "2                       Bonobo   \n",
       "3                Nils Landgren   \n",
       "4           Masayoshi Takanaka   \n",
       "...                        ...   \n",
       "29995  Wolfgang Amadeus Mozart   \n",
       "29996    New York Philharmonic   \n",
       "29997            Georges Bizet   \n",
       "29998             Edvard Grieg   \n",
       "29999    Johann Sebastian Bach   \n",
       "\n",
       "                                              track_name  popularity  \\\n",
       "0                          Cheer up, You're Not Dead Yet        44.0   \n",
       "1                                                Corners        34.0   \n",
       "2                                       We Could Forever        51.0   \n",
       "3                                        A Child Is Born        39.0   \n",
       "4                                             Samba Pati        36.0   \n",
       "...                                                  ...         ...   \n",
       "29995  Die Zauberflöte, K. 620: Wie stark ist nicht d...        22.0   \n",
       "29996  Symphony No. 2 in D Major, Op. 73: II. Adagio ...        26.0   \n",
       "29997  Bizet: Carmen, WD 31, Act 1 Scene 4: No. 5, Ha...        54.0   \n",
       "29998          Peer Gynt-Suite Nr. 1, Op. 46: I. Morning        42.0   \n",
       "29999       Suite No. 2 in B Minor, BWV 1067: VI. Menuet        36.0   \n",
       "\n",
       "       acousticness  danceability  duration_ms  energy  instrumentalness key  \\\n",
       "0           0.00621         0.711     285987.0  0.6210          0.029700   G   \n",
       "1           0.34700         0.729     103703.0  0.5150          0.006920   C   \n",
       "2           0.01810         0.669          NaN  0.8850          0.880000   G   \n",
       "3           0.91800         0.484     228733.0  0.0693          0.000069   F   \n",
       "4           0.03450         0.473     342867.0  0.8230          0.446000   G   \n",
       "...             ...           ...          ...     ...               ...  ..   \n",
       "29995       0.91100         0.326     368640.0  0.1330          0.000000   G   \n",
       "29996       0.96500         0.126     514213.0  0.2040          0.869000   B   \n",
       "29997       0.97600         0.363     262147.0  0.1150          0.000000   D   \n",
       "29998       0.98500         0.123     259573.0  0.0174          0.906000   E   \n",
       "29999       0.77200         0.486      74600.0  0.1570          0.906000  G#   \n",
       "\n",
       "       liveness  loudness   mode  speechiness    tempo  valence music_genre  \n",
       "0        0.1590    -7.429  Major       0.0382  142.065   0.6070        Jazz  \n",
       "1        0.1270   -10.147  Major       0.1840   79.969   0.2870        Jazz  \n",
       "2        0.2650    -7.080  Minor       0.0378      NaN   0.6360        Jazz  \n",
       "3        0.1390   -15.542  Major       0.0346   82.707   0.2060        Jazz  \n",
       "4        0.3060    -6.625  Major       0.0630  104.694   0.3830        Jazz  \n",
       "...         ...       ...    ...          ...      ...      ...         ...  \n",
       "29995    0.1300   -20.493  Major       0.0557   92.090   0.2060   Classical  \n",
       "29996    0.1060   -16.474  Major       0.0395   82.437   0.0387   Classical  \n",
       "29997    0.0992   -17.325  Major       0.0689      NaN   0.2310   Classical  \n",
       "29998    0.1250   -23.671  Major       0.0408   71.705   0.0352   Classical  \n",
       "29999    0.1470   -19.078  Minor       0.0375  124.737   0.6190   Classical  \n",
       "\n",
       "[30000 rows x 16 columns]"
      ]
     },
     "execution_count": 668,
     "metadata": {},
     "output_type": "execute_result"
    }
   ],
   "source": [
    "data_set = pd.read_csv('dataset.csv')\n",
    "data_set"
   ]
  },
  {
   "cell_type": "markdown",
   "id": "2052b1ff",
   "metadata": {},
   "source": [
    "# Phase Zero: EDA and Visualization\n",
    "-------------------------"
   ]
  },
  {
   "cell_type": "markdown",
   "id": "d6a02ac8",
   "metadata": {},
   "source": [
    "## Q1: Check the overall structure of the data using `describe` and `info` methods from the pandas library."
   ]
  },
  {
   "cell_type": "markdown",
   "id": "a9ee0832",
   "metadata": {},
   "source": [
    "The `describe()` method is used for calculating some statistical data like percentile, mean and std of the numerical values of the Series or DataFrame."
   ]
  },
  {
   "cell_type": "code",
   "execution_count": 669,
   "id": "577486bc",
   "metadata": {},
   "outputs": [
    {
     "data": {
      "text/html": [
       "<div>\n",
       "<style scoped>\n",
       "    .dataframe tbody tr th:only-of-type {\n",
       "        vertical-align: middle;\n",
       "    }\n",
       "\n",
       "    .dataframe tbody tr th {\n",
       "        vertical-align: top;\n",
       "    }\n",
       "\n",
       "    .dataframe thead th {\n",
       "        text-align: right;\n",
       "    }\n",
       "</style>\n",
       "<table border=\"1\" class=\"dataframe\">\n",
       "  <thead>\n",
       "    <tr style=\"text-align: right;\">\n",
       "      <th></th>\n",
       "      <th>popularity</th>\n",
       "      <th>acousticness</th>\n",
       "      <th>danceability</th>\n",
       "      <th>duration_ms</th>\n",
       "      <th>energy</th>\n",
       "      <th>instrumentalness</th>\n",
       "      <th>liveness</th>\n",
       "      <th>loudness</th>\n",
       "      <th>speechiness</th>\n",
       "      <th>tempo</th>\n",
       "      <th>valence</th>\n",
       "    </tr>\n",
       "  </thead>\n",
       "  <tbody>\n",
       "    <tr>\n",
       "      <th>count</th>\n",
       "      <td>30000.000000</td>\n",
       "      <td>30000.000000</td>\n",
       "      <td>30000.000000</td>\n",
       "      <td>2.699000e+04</td>\n",
       "      <td>30000.000000</td>\n",
       "      <td>30000.000000</td>\n",
       "      <td>30000.000000</td>\n",
       "      <td>30000.000000</td>\n",
       "      <td>30000.000000</td>\n",
       "      <td>27067.000000</td>\n",
       "      <td>30000.000000</td>\n",
       "    </tr>\n",
       "    <tr>\n",
       "      <th>mean</th>\n",
       "      <td>47.769533</td>\n",
       "      <td>0.359661</td>\n",
       "      <td>0.540929</td>\n",
       "      <td>2.466460e+05</td>\n",
       "      <td>0.556709</td>\n",
       "      <td>0.180807</td>\n",
       "      <td>0.183610</td>\n",
       "      <td>-10.079862</td>\n",
       "      <td>0.083861</td>\n",
       "      <td>117.559824</td>\n",
       "      <td>0.446563</td>\n",
       "    </tr>\n",
       "    <tr>\n",
       "      <th>std</th>\n",
       "      <td>14.512665</td>\n",
       "      <td>0.364182</td>\n",
       "      <td>0.181719</td>\n",
       "      <td>1.126005e+05</td>\n",
       "      <td>0.277856</td>\n",
       "      <td>0.329365</td>\n",
       "      <td>0.150733</td>\n",
       "      <td>6.953936</td>\n",
       "      <td>0.093366</td>\n",
       "      <td>30.719934</td>\n",
       "      <td>0.248745</td>\n",
       "    </tr>\n",
       "    <tr>\n",
       "      <th>min</th>\n",
       "      <td>0.000000</td>\n",
       "      <td>0.000001</td>\n",
       "      <td>0.059600</td>\n",
       "      <td>1.550900e+04</td>\n",
       "      <td>0.000792</td>\n",
       "      <td>0.000000</td>\n",
       "      <td>0.015700</td>\n",
       "      <td>-47.046000</td>\n",
       "      <td>0.022300</td>\n",
       "      <td>34.347000</td>\n",
       "      <td>0.000000</td>\n",
       "    </tr>\n",
       "    <tr>\n",
       "      <th>25%</th>\n",
       "      <td>39.000000</td>\n",
       "      <td>0.029600</td>\n",
       "      <td>0.423000</td>\n",
       "      <td>1.904930e+05</td>\n",
       "      <td>0.361000</td>\n",
       "      <td>0.000000</td>\n",
       "      <td>0.095800</td>\n",
       "      <td>-12.057250</td>\n",
       "      <td>0.035000</td>\n",
       "      <td>92.340000</td>\n",
       "      <td>0.243000</td>\n",
       "    </tr>\n",
       "    <tr>\n",
       "      <th>50%</th>\n",
       "      <td>49.000000</td>\n",
       "      <td>0.205000</td>\n",
       "      <td>0.553000</td>\n",
       "      <td>2.245600e+05</td>\n",
       "      <td>0.602000</td>\n",
       "      <td>0.000089</td>\n",
       "      <td>0.122000</td>\n",
       "      <td>-7.623000</td>\n",
       "      <td>0.045100</td>\n",
       "      <td>115.491000</td>\n",
       "      <td>0.435000</td>\n",
       "    </tr>\n",
       "    <tr>\n",
       "      <th>75%</th>\n",
       "      <td>57.000000</td>\n",
       "      <td>0.710000</td>\n",
       "      <td>0.671000</td>\n",
       "      <td>2.726670e+05</td>\n",
       "      <td>0.786000</td>\n",
       "      <td>0.125250</td>\n",
       "      <td>0.222000</td>\n",
       "      <td>-5.429750</td>\n",
       "      <td>0.080300</td>\n",
       "      <td>139.817500</td>\n",
       "      <td>0.639000</td>\n",
       "    </tr>\n",
       "    <tr>\n",
       "      <th>max</th>\n",
       "      <td>99.000000</td>\n",
       "      <td>0.996000</td>\n",
       "      <td>0.977000</td>\n",
       "      <td>3.195440e+06</td>\n",
       "      <td>0.998000</td>\n",
       "      <td>0.994000</td>\n",
       "      <td>0.996000</td>\n",
       "      <td>1.342000</td>\n",
       "      <td>0.941000</td>\n",
       "      <td>219.331000</td>\n",
       "      <td>0.985000</td>\n",
       "    </tr>\n",
       "  </tbody>\n",
       "</table>\n",
       "</div>"
      ],
      "text/plain": [
       "         popularity  acousticness  danceability   duration_ms        energy  \\\n",
       "count  30000.000000  30000.000000  30000.000000  2.699000e+04  30000.000000   \n",
       "mean      47.769533      0.359661      0.540929  2.466460e+05      0.556709   \n",
       "std       14.512665      0.364182      0.181719  1.126005e+05      0.277856   \n",
       "min        0.000000      0.000001      0.059600  1.550900e+04      0.000792   \n",
       "25%       39.000000      0.029600      0.423000  1.904930e+05      0.361000   \n",
       "50%       49.000000      0.205000      0.553000  2.245600e+05      0.602000   \n",
       "75%       57.000000      0.710000      0.671000  2.726670e+05      0.786000   \n",
       "max       99.000000      0.996000      0.977000  3.195440e+06      0.998000   \n",
       "\n",
       "       instrumentalness      liveness      loudness   speechiness  \\\n",
       "count      30000.000000  30000.000000  30000.000000  30000.000000   \n",
       "mean           0.180807      0.183610    -10.079862      0.083861   \n",
       "std            0.329365      0.150733      6.953936      0.093366   \n",
       "min            0.000000      0.015700    -47.046000      0.022300   \n",
       "25%            0.000000      0.095800    -12.057250      0.035000   \n",
       "50%            0.000089      0.122000     -7.623000      0.045100   \n",
       "75%            0.125250      0.222000     -5.429750      0.080300   \n",
       "max            0.994000      0.996000      1.342000      0.941000   \n",
       "\n",
       "              tempo       valence  \n",
       "count  27067.000000  30000.000000  \n",
       "mean     117.559824      0.446563  \n",
       "std       30.719934      0.248745  \n",
       "min       34.347000      0.000000  \n",
       "25%       92.340000      0.243000  \n",
       "50%      115.491000      0.435000  \n",
       "75%      139.817500      0.639000  \n",
       "max      219.331000      0.985000  "
      ]
     },
     "execution_count": 669,
     "metadata": {},
     "output_type": "execute_result"
    }
   ],
   "source": [
    "data_set.describe()"
   ]
  },
  {
   "cell_type": "markdown",
   "id": "8315b4f7",
   "metadata": {},
   "source": [
    "The `info()` method prints information about the DataFrame. The information contains the number of columns, column labels, column data types, memory usage, range index, and the number of cells in each column. We can see non-null count for each column."
   ]
  },
  {
   "cell_type": "code",
   "execution_count": 670,
   "id": "29bc8035",
   "metadata": {},
   "outputs": [
    {
     "name": "stdout",
     "output_type": "stream",
     "text": [
      "<class 'pandas.core.frame.DataFrame'>\n",
      "RangeIndex: 30000 entries, 0 to 29999\n",
      "Data columns (total 16 columns):\n",
      " #   Column            Non-Null Count  Dtype  \n",
      "---  ------            --------------  -----  \n",
      " 0   artist_name       28506 non-null  object \n",
      " 1   track_name        30000 non-null  object \n",
      " 2   popularity        30000 non-null  float64\n",
      " 3   acousticness      30000 non-null  float64\n",
      " 4   danceability      30000 non-null  float64\n",
      " 5   duration_ms       26990 non-null  float64\n",
      " 6   energy            30000 non-null  float64\n",
      " 7   instrumentalness  30000 non-null  float64\n",
      " 8   key               30000 non-null  object \n",
      " 9   liveness          30000 non-null  float64\n",
      " 10  loudness          30000 non-null  float64\n",
      " 11  mode              30000 non-null  object \n",
      " 12  speechiness       30000 non-null  float64\n",
      " 13  tempo             27067 non-null  float64\n",
      " 14  valence           30000 non-null  float64\n",
      " 15  music_genre       30000 non-null  object \n",
      "dtypes: float64(11), object(5)\n",
      "memory usage: 3.7+ MB\n"
     ]
    }
   ],
   "source": [
    "data_set.info()"
   ]
  },
  {
   "cell_type": "markdown",
   "id": "9d72f523",
   "metadata": {},
   "source": [
    "## Q2: Find and display the percentage of data lost in each feature."
   ]
  },
  {
   "cell_type": "code",
   "execution_count": 671,
   "id": "b9a59698",
   "metadata": {},
   "outputs": [
    {
     "data": {
      "text/plain": [
       "artist_name          4.980000\n",
       "track_name           0.000000\n",
       "popularity           0.000000\n",
       "acousticness         0.000000\n",
       "danceability         0.000000\n",
       "duration_ms         10.033333\n",
       "energy               0.000000\n",
       "instrumentalness     0.000000\n",
       "key                  0.000000\n",
       "liveness             0.000000\n",
       "loudness             0.000000\n",
       "mode                 0.000000\n",
       "speechiness          0.000000\n",
       "tempo                9.776667\n",
       "valence              0.000000\n",
       "music_genre          0.000000\n",
       "dtype: float64"
      ]
     },
     "execution_count": 671,
     "metadata": {},
     "output_type": "execute_result"
    }
   ],
   "source": [
    "def calculate_missing_values_percentage(curr_data_set):\n",
    "    nan_count = curr_data_set.isna().sum()\n",
    "    row_count = len(curr_data_set.index)\n",
    "\n",
    "    return (nan_count/row_count) * 100\n",
    "calculate_missing_values_percentage(data_set)"
   ]
  },
  {
   "cell_type": "markdown",
   "id": "307fb36e",
   "metadata": {},
   "source": [
    "## Q3: Draw a distribution chart of numeric and non-numeric properties"
   ]
  },
  {
   "cell_type": "markdown",
   "id": "4c34fac1",
   "metadata": {},
   "source": [
    "As we can see from the charts below, some of numerical graphs follow by Gaussian distribution and the others follow by bell distribution."
   ]
  },
  {
   "cell_type": "code",
   "execution_count": 672,
   "id": "2884c46c",
   "metadata": {},
   "outputs": [],
   "source": [
    "def show_chart(curr_var, col_name):\n",
    "    # set the histogram\n",
    "    plt.hist(curr_var, \n",
    "             range=(curr_var.min(),\n",
    "                    curr_var.max()+1), \n",
    "             bins=25, \n",
    "             alpha=0.5) \n",
    "    # set title and labels\n",
    "    plt.xlabel(col_name) \n",
    "    plt.ylabel(\"Count\") \n",
    "    plt.title(\"Histogram of \" + col_name) \n",
    "    plt.show()    "
   ]
  },
  {
   "cell_type": "code",
   "execution_count": 673,
   "id": "a80f4794",
   "metadata": {},
   "outputs": [
    {
     "data": {
      "image/png": "[encoded data removed]",
      "text/plain": [
       "<Figure size 432x288 with 1 Axes>"
      ]
     },
     "metadata": {
      "needs_background": "light"
     },
     "output_type": "display_data"
    },
    {
     "data": {
      "image/png": "[encoded data removed]",
      "text/plain": [
       "<Figure size 432x288 with 1 Axes>"
      ]
     },
     "metadata": {
      "needs_background": "light"
     },
     "output_type": "display_data"
    },
    {
     "data": {
      "image/png": "[encoded data removed]",
      "text/plain": [
       "<Figure size 432x288 with 1 Axes>"
      ]
     },
     "metadata": {
      "needs_background": "light"
     },
     "output_type": "display_data"
    },
    {
     "data": {
      "image/png": "[encoded data removed]",
      "text/plain": [
       "<Figure size 432x288 with 1 Axes>"
      ]
     },
     "metadata": {
      "needs_background": "light"
     },
     "output_type": "display_data"
    },
    {
     "data": {
      "image/png": "[encoded data removed]",
      "text/plain": [
       "<Figure size 432x288 with 1 Axes>"
      ]
     },
     "metadata": {
      "needs_background": "light"
     },
     "output_type": "display_data"
    },
    {
     "data": {
      "image/png": "[encoded data removed]",
      "text/plain": [
       "<Figure size 432x288 with 1 Axes>"
      ]
     },
     "metadata": {
      "needs_background": "light"
     },
     "output_type": "display_data"
    },
    {
     "data": {
      "image/png": "[encoded data removed]",
      "text/plain": [
       "<Figure size 432x288 with 1 Axes>"
      ]
     },
     "metadata": {
      "needs_background": "light"
     },
     "output_type": "display_data"
    },
    {
     "data": {
      "image/png": "[encoded data removed]",
      "text/plain": [
       "<Figure size 432x288 with 1 Axes>"
      ]
     },
     "metadata": {
      "needs_background": "light"
     },
     "output_type": "display_data"
    },
    {
     "data": {
      "image/png": "[encoded data removed]",
      "text/plain": [
       "<Figure size 432x288 with 1 Axes>"
      ]
     },
     "metadata": {
      "needs_background": "light"
     },
     "output_type": "display_data"
    },
    {
     "data": {
      "image/png": "[encoded data removed]",
      "text/plain": [
       "<Figure size 432x288 with 1 Axes>"
      ]
     },
     "metadata": {
      "needs_background": "light"
     },
     "output_type": "display_data"
    },
    {
     "data": {
      "image/png": "[encoded data removed]",
      "text/plain": [
       "<Figure size 432x288 with 1 Axes>"
      ]
     },
     "metadata": {
      "needs_background": "light"
     },
     "output_type": "display_data"
    }
   ],
   "source": [
    "numerical_cols_name = list(data_set.select_dtypes([np.number]).columns)\n",
    "for col in numerical_cols_name:\n",
    "    show_chart(data_set[col], col)"
   ]
  },
  {
   "cell_type": "code",
   "execution_count": 674,
   "id": "cb9c4304",
   "metadata": {},
   "outputs": [],
   "source": [
    "def show_bar_chart(index_list, count_list, col_name):\n",
    "    # set the histogram\n",
    "    plt.bar(index_list, \n",
    "             count_list) \n",
    "    # set title and labels\n",
    "    plt.xlabel(col_name) \n",
    "    plt.ylabel(\"Count\") \n",
    "    plt.title(\"Histogram of \" + col_name) \n",
    "    plt.show()    "
   ]
  },
  {
   "cell_type": "code",
   "execution_count": 675,
   "id": "9cd7b5b0",
   "metadata": {},
   "outputs": [
    {
     "data": {
      "image/png": "[encoded data removed]",
      "text/plain": [
       "<Figure size 432x288 with 1 Axes>"
      ]
     },
     "metadata": {
      "needs_background": "light"
     },
     "output_type": "display_data"
    },
    {
     "data": {
      "image/png": "[encoded data removed]",
      "text/plain": [
       "<Figure size 432x288 with 1 Axes>"
      ]
     },
     "metadata": {
      "needs_background": "light"
     },
     "output_type": "display_data"
    },
    {
     "data": {
      "image/png": "[encoded data removed]",
      "text/plain": [
       "<Figure size 432x288 with 1 Axes>"
      ]
     },
     "metadata": {
      "needs_background": "light"
     },
     "output_type": "display_data"
    }
   ],
   "source": [
    "non_numerical_cols_name =[\"mode\", \"music_genre\", \"key\"]\n",
    "for col in non_numerical_cols_name:    \n",
    "    index_list = data_set[col].value_counts().index.tolist()\n",
    "    count_list = data_set[col].value_counts().tolist()\n",
    "    show_bar_chart(index_list, count_list, col)"
   ]
  },
  {
   "cell_type": "markdown",
   "id": "2667d568",
   "metadata": {},
   "source": [
    "# Phase One: Preprocessing\n",
    "-------------------------"
   ]
  },
  {
   "cell_type": "markdown",
   "id": "9cdedee6",
   "metadata": {},
   "source": [
    "## Q1: Describe the available methods for managing missing values and describe the advantages and disadvantages of each method.\n",
    "1- Eliminate rows with missing data:<br/>\n",
    "Simple and sometimes effective strategy. Fails if many objects have missing values. If a feature has mostly missing values, then that feature itself can also be eliminated.<br/>\n",
    "2- Estimate missing values:<br/>\n",
    "If only a reasonable percentage of values are missing, then we can also run simple interpolation methods to fill in those values. However, most common method of dealing with missing values is by filling them in with the `mean` or `median` of the respective feature."
   ]
  },
  {
   "cell_type": "markdown",
   "id": "ee13675d",
   "metadata": {},
   "source": [
    "## Q2: For each column with missing values, select one of the lost data management methods and apply it."
   ]
  },
  {
   "cell_type": "code",
   "execution_count": 676,
   "id": "4b790aac",
   "metadata": {},
   "outputs": [
    {
     "data": {
      "text/plain": [
       "artist_name         0.0\n",
       "track_name          0.0\n",
       "popularity          0.0\n",
       "acousticness        0.0\n",
       "danceability        0.0\n",
       "duration_ms         0.0\n",
       "energy              0.0\n",
       "instrumentalness    0.0\n",
       "key                 0.0\n",
       "liveness            0.0\n",
       "loudness            0.0\n",
       "mode                0.0\n",
       "speechiness         0.0\n",
       "tempo               0.0\n",
       "valence             0.0\n",
       "music_genre         0.0\n",
       "dtype: float64"
      ]
     },
     "execution_count": 676,
     "metadata": {},
     "output_type": "execute_result"
    }
   ],
   "source": [
    "data_set.fillna(data_set.mean(numeric_only=True, axis=0), inplace=True)\n",
    "data_set['artist_name'] = data_set['artist_name'].fillna(data_set['artist_name'].mode()[0])\n",
    "calculate_missing_values_percentage(data_set)"
   ]
  },
  {
   "cell_type": "markdown",
   "id": "61b70f4f",
   "metadata": {},
   "source": [
    "## Q3: For numerical properties, what is Normalization or Standardization used for?\n",
    "Normalization or Min-Max Scaling is used to transform features to be on a similar scale. This scales the range to [0, 1] or sometimes [-1, 1].  The new point is calculated as:<br/>\n",
    "`X_new = (X - X_min)/(X_max - X_min)`<br/>\n",
    "Standardization or Z-Score Normalization is the transformation of features by subtracting from mean and dividing by standard deviation. It is not bounded to a certain range. Standardization can be helpful in cases where the data follows a Gaussian distribution. This is often called as Z-score.<br/>\n",
    "`X_new = (X - mean)/Std`"
   ]
  },
  {
   "cell_type": "markdown",
   "id": "41e2f0dd",
   "metadata": {},
   "source": [
    "## Q4: What method do you use to scale the data in this project? Why?\n",
    "I use standardization; because standardization is more effective if your attribute distribution is Gaussian. And it changes the mean to 0 and variance to 1. The ultimate goal to perform standardization is to bring down all the features to a common scale without distorting the differences in the range of the values."
   ]
  },
  {
   "cell_type": "code",
   "execution_count": 677,
   "id": "d9cf6112",
   "metadata": {},
   "outputs": [
    {
     "data": {
      "image/png": "[encoded data removed]",
      "text/plain": [
       "<Figure size 432x288 with 1 Axes>"
      ]
     },
     "metadata": {
      "needs_background": "light"
     },
     "output_type": "display_data"
    },
    {
     "data": {
      "image/png": "[encoded data removed]",
      "text/plain": [
       "<Figure size 432x288 with 1 Axes>"
      ]
     },
     "metadata": {
      "needs_background": "light"
     },
     "output_type": "display_data"
    },
    {
     "data": {
      "image/png": "[encoded data removed]",
      "text/plain": [
       "<Figure size 432x288 with 1 Axes>"
      ]
     },
     "metadata": {
      "needs_background": "light"
     },
     "output_type": "display_data"
    },
    {
     "data": {
      "image/png": "[encoded data removed]",
      "text/plain": [
       "<Figure size 432x288 with 1 Axes>"
      ]
     },
     "metadata": {
      "needs_background": "light"
     },
     "output_type": "display_data"
    },
    {
     "data": {
      "image/png": "[encoded data removed]",
      "text/plain": [
       "<Figure size 432x288 with 1 Axes>"
      ]
     },
     "metadata": {
      "needs_background": "light"
     },
     "output_type": "display_data"
    },
    {
     "data": {
      "image/png": "[encoded data removed]",
      "text/plain": [
       "<Figure size 432x288 with 1 Axes>"
      ]
     },
     "metadata": {
      "needs_background": "light"
     },
     "output_type": "display_data"
    },
    {
     "data": {
      "image/png": "[encoded data removed]",
      "text/plain": [
       "<Figure size 432x288 with 1 Axes>"
      ]
     },
     "metadata": {
      "needs_background": "light"
     },
     "output_type": "display_data"
    },
    {
     "data": {
      "image/png": "[encoded data removed]",
      "text/plain": [
       "<Figure size 432x288 with 1 Axes>"
      ]
     },
     "metadata": {
      "needs_background": "light"
     },
     "output_type": "display_data"
    },
    {
     "data": {
      "image/png": "[encoded data removed]",
      "text/plain": [
       "<Figure size 432x288 with 1 Axes>"
      ]
     },
     "metadata": {
      "needs_background": "light"
     },
     "output_type": "display_data"
    },
    {
     "data": {
      "image/png": "[encoded data removed]",
      "text/plain": [
       "<Figure size 432x288 with 1 Axes>"
      ]
     },
     "metadata": {
      "needs_background": "light"
     },
     "output_type": "display_data"
    },
    {
     "data": {
      "image/png": "[encoded data removed]",
      "text/plain": [
       "<Figure size 432x288 with 1 Axes>"
      ]
     },
     "metadata": {
      "needs_background": "light"
     },
     "output_type": "display_data"
    }
   ],
   "source": [
    "for col in numerical_cols_name:\n",
    "    data_set[col] = (data_set[col]-data_set[col].mean())/data_set[col].std()\n",
    "    data_set[col] = (data_set[col]-data_set[col].mean())/data_set[col].std()\n",
    "    \n",
    "for col in numerical_cols_name:\n",
    "    show_chart(data_set[col], col)    "
   ]
  },
  {
   "cell_type": "markdown",
   "id": "42a24b26",
   "metadata": {},
   "source": [
    "## Q5: There are many ways for our model to work with batch data. Explain the two methods and state which method you used. Why?\n",
    "There are several different types of categorical data including:<br/>\n",
    "Binary: A variable that has only 2 values. For example, True/False or Yes/No.<br/>\n",
    "Ordinal: A variable that has some order associated with it.<br/>\n",
    "Nominal: A variable that has no numerical importance, for example color or city.<br/>\n",
    "\n",
    "I select number for data in each column to enable us to work with non numerical data."
   ]
  },
  {
   "cell_type": "code",
   "execution_count": 678,
   "id": "3de6466d",
   "metadata": {},
   "outputs": [
    {
     "data": {
      "text/html": [
       "<div>\n",
       "<style scoped>\n",
       "    .dataframe tbody tr th:only-of-type {\n",
       "        vertical-align: middle;\n",
       "    }\n",
       "\n",
       "    .dataframe tbody tr th {\n",
       "        vertical-align: top;\n",
       "    }\n",
       "\n",
       "    .dataframe thead th {\n",
       "        text-align: right;\n",
       "    }\n",
       "</style>\n",
       "<table border=\"1\" class=\"dataframe\">\n",
       "  <thead>\n",
       "    <tr style=\"text-align: right;\">\n",
       "      <th></th>\n",
       "      <th>artist_name</th>\n",
       "      <th>popularity</th>\n",
       "      <th>acousticness</th>\n",
       "      <th>danceability</th>\n",
       "      <th>duration_ms</th>\n",
       "      <th>energy</th>\n",
       "      <th>instrumentalness</th>\n",
       "      <th>key</th>\n",
       "      <th>liveness</th>\n",
       "      <th>loudness</th>\n",
       "      <th>mode</th>\n",
       "      <th>speechiness</th>\n",
       "      <th>tempo</th>\n",
       "      <th>valence</th>\n",
       "      <th>music_genre</th>\n",
       "    </tr>\n",
       "  </thead>\n",
       "  <tbody>\n",
       "    <tr>\n",
       "      <th>0</th>\n",
       "      <td>531</td>\n",
       "      <td>-0.259741</td>\n",
       "      <td>-0.970532</td>\n",
       "      <td>0.935904</td>\n",
       "      <td>3.683534e-01</td>\n",
       "      <td>0.231381</td>\n",
       "      <td>-0.458783</td>\n",
       "      <td>10</td>\n",
       "      <td>-0.163272</td>\n",
       "      <td>0.381203</td>\n",
       "      <td>0</td>\n",
       "      <td>-0.489052</td>\n",
       "      <td>8.398059e-01</td>\n",
       "      <td>0.644987</td>\n",
       "      <td>3</td>\n",
       "    </tr>\n",
       "    <tr>\n",
       "      <th>1</th>\n",
       "      <td>1511</td>\n",
       "      <td>-0.948794</td>\n",
       "      <td>-0.034765</td>\n",
       "      <td>1.034959</td>\n",
       "      <td>-1.338391e+00</td>\n",
       "      <td>-0.150111</td>\n",
       "      <td>-0.527946</td>\n",
       "      <td>3</td>\n",
       "      <td>-0.375567</td>\n",
       "      <td>-0.009655</td>\n",
       "      <td>0</td>\n",
       "      <td>1.072549</td>\n",
       "      <td>-1.288258e+00</td>\n",
       "      <td>-0.641471</td>\n",
       "      <td>3</td>\n",
       "    </tr>\n",
       "    <tr>\n",
       "      <th>2</th>\n",
       "      <td>582</td>\n",
       "      <td>0.222596</td>\n",
       "      <td>-0.937884</td>\n",
       "      <td>0.704778</td>\n",
       "      <td>-1.061077e-16</td>\n",
       "      <td>1.181513</td>\n",
       "      <td>2.122853</td>\n",
       "      <td>10</td>\n",
       "      <td>0.539958</td>\n",
       "      <td>0.431391</td>\n",
       "      <td>1</td>\n",
       "      <td>-0.493336</td>\n",
       "      <td>-3.278522e-16</td>\n",
       "      <td>0.761572</td>\n",
       "      <td>3</td>\n",
       "    </tr>\n",
       "    <tr>\n",
       "      <th>3</th>\n",
       "      <td>3210</td>\n",
       "      <td>-0.604268</td>\n",
       "      <td>1.533131</td>\n",
       "      <td>-0.313279</td>\n",
       "      <td>-1.677218e-01</td>\n",
       "      <td>-1.754179</td>\n",
       "      <td>-0.548746</td>\n",
       "      <td>8</td>\n",
       "      <td>-0.295956</td>\n",
       "      <td>-0.785474</td>\n",
       "      <td>0</td>\n",
       "      <td>-0.527610</td>\n",
       "      <td>-1.194425e+00</td>\n",
       "      <td>-0.967105</td>\n",
       "      <td>3</td>\n",
       "    </tr>\n",
       "    <tr>\n",
       "      <th>4</th>\n",
       "      <td>2874</td>\n",
       "      <td>-0.810984</td>\n",
       "      <td>-0.892852</td>\n",
       "      <td>-0.373812</td>\n",
       "      <td>9.009268e-01</td>\n",
       "      <td>0.958376</td>\n",
       "      <td>0.805165</td>\n",
       "      <td>10</td>\n",
       "      <td>0.811962</td>\n",
       "      <td>0.496821</td>\n",
       "      <td>0</td>\n",
       "      <td>-0.223430</td>\n",
       "      <td>-4.409188e-01</td>\n",
       "      <td>-0.255534</td>\n",
       "      <td>3</td>\n",
       "    </tr>\n",
       "    <tr>\n",
       "      <th>...</th>\n",
       "      <td>...</td>\n",
       "      <td>...</td>\n",
       "      <td>...</td>\n",
       "      <td>...</td>\n",
       "      <td>...</td>\n",
       "      <td>...</td>\n",
       "      <td>...</td>\n",
       "      <td>...</td>\n",
       "      <td>...</td>\n",
       "      <td>...</td>\n",
       "      <td>...</td>\n",
       "      <td>...</td>\n",
       "      <td>...</td>\n",
       "      <td>...</td>\n",
       "      <td>...</td>\n",
       "    </tr>\n",
       "    <tr>\n",
       "      <th>29995</th>\n",
       "      <td>4924</td>\n",
       "      <td>-1.775658</td>\n",
       "      <td>1.513910</td>\n",
       "      <td>-1.182754</td>\n",
       "      <td>1.142242e+00</td>\n",
       "      <td>-1.524924</td>\n",
       "      <td>-0.548956</td>\n",
       "      <td>10</td>\n",
       "      <td>-0.355665</td>\n",
       "      <td>-1.497445</td>\n",
       "      <td>0</td>\n",
       "      <td>-0.301617</td>\n",
       "      <td>-8.728649e-01</td>\n",
       "      <td>-0.967105</td>\n",
       "      <td>1</td>\n",
       "    </tr>\n",
       "    <tr>\n",
       "      <th>29996</th>\n",
       "      <td>3176</td>\n",
       "      <td>-1.500037</td>\n",
       "      <td>1.662188</td>\n",
       "      <td>-2.283356</td>\n",
       "      <td>2.505257e+00</td>\n",
       "      <td>-1.269396</td>\n",
       "      <td>2.089455</td>\n",
       "      <td>2</td>\n",
       "      <td>-0.514887</td>\n",
       "      <td>-0.919499</td>\n",
       "      <td>0</td>\n",
       "      <td>-0.475128</td>\n",
       "      <td>-1.203678e+00</td>\n",
       "      <td>-1.639681</td>\n",
       "      <td>1</td>\n",
       "    </tr>\n",
       "    <tr>\n",
       "      <th>29997</th>\n",
       "      <td>1662</td>\n",
       "      <td>0.429312</td>\n",
       "      <td>1.692392</td>\n",
       "      <td>-0.979143</td>\n",
       "      <td>1.451370e-01</td>\n",
       "      <td>-1.589705</td>\n",
       "      <td>-0.548956</td>\n",
       "      <td>5</td>\n",
       "      <td>-0.559999</td>\n",
       "      <td>-1.041876</td>\n",
       "      <td>0</td>\n",
       "      <td>-0.160237</td>\n",
       "      <td>-3.278522e-16</td>\n",
       "      <td>-0.866601</td>\n",
       "      <td>1</td>\n",
       "    </tr>\n",
       "    <tr>\n",
       "      <th>29998</th>\n",
       "      <td>1330</td>\n",
       "      <td>-0.397552</td>\n",
       "      <td>1.717105</td>\n",
       "      <td>-2.299865</td>\n",
       "      <td>1.210364e-01</td>\n",
       "      <td>-1.940966</td>\n",
       "      <td>2.201793</td>\n",
       "      <td>7</td>\n",
       "      <td>-0.388836</td>\n",
       "      <td>-1.954453</td>\n",
       "      <td>0</td>\n",
       "      <td>-0.461204</td>\n",
       "      <td>-1.571470e+00</td>\n",
       "      <td>-1.653752</td>\n",
       "      <td>1</td>\n",
       "    </tr>\n",
       "    <tr>\n",
       "      <th>29999</th>\n",
       "      <td>2219</td>\n",
       "      <td>-0.810984</td>\n",
       "      <td>1.132233</td>\n",
       "      <td>-0.302273</td>\n",
       "      <td>-1.610885e+00</td>\n",
       "      <td>-1.438548</td>\n",
       "      <td>2.201793</td>\n",
       "      <td>11</td>\n",
       "      <td>-0.242883</td>\n",
       "      <td>-1.293963</td>\n",
       "      <td>1</td>\n",
       "      <td>-0.496549</td>\n",
       "      <td>2.459658e-01</td>\n",
       "      <td>0.693229</td>\n",
       "      <td>1</td>\n",
       "    </tr>\n",
       "  </tbody>\n",
       "</table>\n",
       "<p>30000 rows × 15 columns</p>\n",
       "</div>"
      ],
      "text/plain": [
       "       artist_name  popularity  acousticness  danceability   duration_ms  \\\n",
       "0              531   -0.259741     -0.970532      0.935904  3.683534e-01   \n",
       "1             1511   -0.948794     -0.034765      1.034959 -1.338391e+00   \n",
       "2              582    0.222596     -0.937884      0.704778 -1.061077e-16   \n",
       "3             3210   -0.604268      1.533131     -0.313279 -1.677218e-01   \n",
       "4             2874   -0.810984     -0.892852     -0.373812  9.009268e-01   \n",
       "...            ...         ...           ...           ...           ...   \n",
       "29995         4924   -1.775658      1.513910     -1.182754  1.142242e+00   \n",
       "29996         3176   -1.500037      1.662188     -2.283356  2.505257e+00   \n",
       "29997         1662    0.429312      1.692392     -0.979143  1.451370e-01   \n",
       "29998         1330   -0.397552      1.717105     -2.299865  1.210364e-01   \n",
       "29999         2219   -0.810984      1.132233     -0.302273 -1.610885e+00   \n",
       "\n",
       "         energy  instrumentalness  key  liveness  loudness  mode  speechiness  \\\n",
       "0      0.231381         -0.458783   10 -0.163272  0.381203     0    -0.489052   \n",
       "1     -0.150111         -0.527946    3 -0.375567 -0.009655     0     1.072549   \n",
       "2      1.181513          2.122853   10  0.539958  0.431391     1    -0.493336   \n",
       "3     -1.754179         -0.548746    8 -0.295956 -0.785474     0    -0.527610   \n",
       "4      0.958376          0.805165   10  0.811962  0.496821     0    -0.223430   \n",
       "...         ...               ...  ...       ...       ...   ...          ...   \n",
       "29995 -1.524924         -0.548956   10 -0.355665 -1.497445     0    -0.301617   \n",
       "29996 -1.269396          2.089455    2 -0.514887 -0.919499     0    -0.475128   \n",
       "29997 -1.589705         -0.548956    5 -0.559999 -1.041876     0    -0.160237   \n",
       "29998 -1.940966          2.201793    7 -0.388836 -1.954453     0    -0.461204   \n",
       "29999 -1.438548          2.201793   11 -0.242883 -1.293963     1    -0.496549   \n",
       "\n",
       "              tempo   valence  music_genre  \n",
       "0      8.398059e-01  0.644987            3  \n",
       "1     -1.288258e+00 -0.641471            3  \n",
       "2     -3.278522e-16  0.761572            3  \n",
       "3     -1.194425e+00 -0.967105            3  \n",
       "4     -4.409188e-01 -0.255534            3  \n",
       "...             ...       ...          ...  \n",
       "29995 -8.728649e-01 -0.967105            1  \n",
       "29996 -1.203678e+00 -1.639681            1  \n",
       "29997 -3.278522e-16 -0.866601            1  \n",
       "29998 -1.571470e+00 -1.653752            1  \n",
       "29999  2.459658e-01  0.693229            1  \n",
       "\n",
       "[30000 rows x 15 columns]"
      ]
     },
     "execution_count": 678,
     "metadata": {},
     "output_type": "execute_result"
    }
   ],
   "source": [
    "# Also we can apply nomical operator on artist_name\n",
    "# data_set = pd.get_dummies(data_set, columns=[\"artist_name\"])\n",
    "\n",
    "# I prefer to delete track_name column, because they are unique for each row and it doesn't almost add more information \n",
    "data_set.pop(\"track_name\") \n",
    "\n",
    "label_encoder = LabelEncoder()\n",
    "for category in [\"mode\", \"key\", \"music_genre\", \"artist_name\"]:\n",
    "    data_set[category] = label_encoder.fit_transform(data_set[category])\n",
    "\n",
    "data_set"
   ]
  },
  {
   "cell_type": "markdown",
   "id": "b09576a0",
   "metadata": {},
   "source": [
    "## Q6: Given that the singer's name seems to be a useful feature in distinguishing the music genre. Can it be modified to be usable? If not, is there any way but to delete this column?\n",
    "\n",
    "As we see in previous part, we can make this column to numerical by passing a number to each distinct `artist_name` value. we can do this by `fit_transform`. We have written this code in previous part."
   ]
  },
  {
   "cell_type": "markdown",
   "id": "903c0060",
   "metadata": {},
   "source": [
    "## Q7: Calculate gain information for attributes"
   ]
  },
  {
   "cell_type": "code",
   "execution_count": 679,
   "id": "36d22050",
   "metadata": {},
   "outputs": [],
   "source": [
    "# pop music_genre for target column\n",
    "y = data_set.pop(\"music_genre\")"
   ]
  },
  {
   "cell_type": "code",
   "execution_count": 680,
   "id": "cb45aea8",
   "metadata": {},
   "outputs": [
    {
     "data": {
      "text/plain": [
       "<AxesSubplot:>"
      ]
     },
     "execution_count": 680,
     "metadata": {},
     "output_type": "execute_result"
    },
    {
     "data": {
      "image/png": "[encoded data removed]",
      "text/plain": [
       "<Figure size 432x288 with 1 Axes>"
      ]
     },
     "metadata": {
      "needs_background": "light"
     },
     "output_type": "display_data"
    }
   ],
   "source": [
    "X_train, X_test, y_train, y_test = train_test_split(data_set, y, test_size = 0.33, random_state = 1)\n",
    "IG = mutual_info_classif(X_train, y_train)\n",
    "\n",
    "pd.DataFrame(IG, columns=[\"IG\"], index=X_train.columns).plot(kind='bar')"
   ]
  },
  {
   "cell_type": "markdown",
   "id": "b901ef49",
   "metadata": {},
   "source": [
    "## Q8: Do you think all the columns give us useful information to understand the music genre? What are the advantages and disadvantages of keeping all the features? Can we delete a column from the dataset? What are the advantages and disadvantages of deleting one or more columns? Which features do you think can be useful in predicting the genre of a piece of music? Which columns can we remove?\n",
    "According to part 7, Some columns like `artist name`, `popularity`, `loudness`, `acousticness`, `energy`, `instrumentalness` and `danceability` have more information gain and they can help us to recognize `music_gene` better than the others. We can delete features with low IG for decision tree algorithm. Keeping all features and use them may take more time and it likely doen't affect on result but it may make it more accracy and make a few changes in data set. With delete some columns, in large data sets, we may have better result. Also numerical columns can be more useful and it prefer to keep them instead of non-numerical columns. For example, we delete `track_name` column; because we can not use them in the following processing and all of them are unique, so we have 3000 distinct values here for track_name. I dropped it in previous part."
   ]
  },
  {
   "cell_type": "code",
   "execution_count": 681,
   "id": "07c2f9d0",
   "metadata": {},
   "outputs": [
    {
     "data": {
      "text/html": [
       "<div>\n",
       "<style scoped>\n",
       "    .dataframe tbody tr th:only-of-type {\n",
       "        vertical-align: middle;\n",
       "    }\n",
       "\n",
       "    .dataframe tbody tr th {\n",
       "        vertical-align: top;\n",
       "    }\n",
       "\n",
       "    .dataframe thead th {\n",
       "        text-align: right;\n",
       "    }\n",
       "</style>\n",
       "<table border=\"1\" class=\"dataframe\">\n",
       "  <thead>\n",
       "    <tr style=\"text-align: right;\">\n",
       "      <th></th>\n",
       "      <th>artist_name</th>\n",
       "      <th>popularity</th>\n",
       "      <th>acousticness</th>\n",
       "      <th>danceability</th>\n",
       "      <th>duration_ms</th>\n",
       "      <th>energy</th>\n",
       "      <th>instrumentalness</th>\n",
       "      <th>key</th>\n",
       "      <th>loudness</th>\n",
       "      <th>mode</th>\n",
       "      <th>speechiness</th>\n",
       "      <th>tempo</th>\n",
       "      <th>valence</th>\n",
       "    </tr>\n",
       "  </thead>\n",
       "  <tbody>\n",
       "    <tr>\n",
       "      <th>0</th>\n",
       "      <td>531</td>\n",
       "      <td>-0.259741</td>\n",
       "      <td>-0.970532</td>\n",
       "      <td>0.935904</td>\n",
       "      <td>3.683534e-01</td>\n",
       "      <td>0.231381</td>\n",
       "      <td>-0.458783</td>\n",
       "      <td>10</td>\n",
       "      <td>0.381203</td>\n",
       "      <td>0</td>\n",
       "      <td>-0.489052</td>\n",
       "      <td>8.398059e-01</td>\n",
       "      <td>0.644987</td>\n",
       "    </tr>\n",
       "    <tr>\n",
       "      <th>1</th>\n",
       "      <td>1511</td>\n",
       "      <td>-0.948794</td>\n",
       "      <td>-0.034765</td>\n",
       "      <td>1.034959</td>\n",
       "      <td>-1.338391e+00</td>\n",
       "      <td>-0.150111</td>\n",
       "      <td>-0.527946</td>\n",
       "      <td>3</td>\n",
       "      <td>-0.009655</td>\n",
       "      <td>0</td>\n",
       "      <td>1.072549</td>\n",
       "      <td>-1.288258e+00</td>\n",
       "      <td>-0.641471</td>\n",
       "    </tr>\n",
       "    <tr>\n",
       "      <th>2</th>\n",
       "      <td>582</td>\n",
       "      <td>0.222596</td>\n",
       "      <td>-0.937884</td>\n",
       "      <td>0.704778</td>\n",
       "      <td>-1.061077e-16</td>\n",
       "      <td>1.181513</td>\n",
       "      <td>2.122853</td>\n",
       "      <td>10</td>\n",
       "      <td>0.431391</td>\n",
       "      <td>1</td>\n",
       "      <td>-0.493336</td>\n",
       "      <td>-3.278522e-16</td>\n",
       "      <td>0.761572</td>\n",
       "    </tr>\n",
       "    <tr>\n",
       "      <th>3</th>\n",
       "      <td>3210</td>\n",
       "      <td>-0.604268</td>\n",
       "      <td>1.533131</td>\n",
       "      <td>-0.313279</td>\n",
       "      <td>-1.677218e-01</td>\n",
       "      <td>-1.754179</td>\n",
       "      <td>-0.548746</td>\n",
       "      <td>8</td>\n",
       "      <td>-0.785474</td>\n",
       "      <td>0</td>\n",
       "      <td>-0.527610</td>\n",
       "      <td>-1.194425e+00</td>\n",
       "      <td>-0.967105</td>\n",
       "    </tr>\n",
       "    <tr>\n",
       "      <th>4</th>\n",
       "      <td>2874</td>\n",
       "      <td>-0.810984</td>\n",
       "      <td>-0.892852</td>\n",
       "      <td>-0.373812</td>\n",
       "      <td>9.009268e-01</td>\n",
       "      <td>0.958376</td>\n",
       "      <td>0.805165</td>\n",
       "      <td>10</td>\n",
       "      <td>0.496821</td>\n",
       "      <td>0</td>\n",
       "      <td>-0.223430</td>\n",
       "      <td>-4.409188e-01</td>\n",
       "      <td>-0.255534</td>\n",
       "    </tr>\n",
       "    <tr>\n",
       "      <th>...</th>\n",
       "      <td>...</td>\n",
       "      <td>...</td>\n",
       "      <td>...</td>\n",
       "      <td>...</td>\n",
       "      <td>...</td>\n",
       "      <td>...</td>\n",
       "      <td>...</td>\n",
       "      <td>...</td>\n",
       "      <td>...</td>\n",
       "      <td>...</td>\n",
       "      <td>...</td>\n",
       "      <td>...</td>\n",
       "      <td>...</td>\n",
       "    </tr>\n",
       "    <tr>\n",
       "      <th>29995</th>\n",
       "      <td>4924</td>\n",
       "      <td>-1.775658</td>\n",
       "      <td>1.513910</td>\n",
       "      <td>-1.182754</td>\n",
       "      <td>1.142242e+00</td>\n",
       "      <td>-1.524924</td>\n",
       "      <td>-0.548956</td>\n",
       "      <td>10</td>\n",
       "      <td>-1.497445</td>\n",
       "      <td>0</td>\n",
       "      <td>-0.301617</td>\n",
       "      <td>-8.728649e-01</td>\n",
       "      <td>-0.967105</td>\n",
       "    </tr>\n",
       "    <tr>\n",
       "      <th>29996</th>\n",
       "      <td>3176</td>\n",
       "      <td>-1.500037</td>\n",
       "      <td>1.662188</td>\n",
       "      <td>-2.283356</td>\n",
       "      <td>2.505257e+00</td>\n",
       "      <td>-1.269396</td>\n",
       "      <td>2.089455</td>\n",
       "      <td>2</td>\n",
       "      <td>-0.919499</td>\n",
       "      <td>0</td>\n",
       "      <td>-0.475128</td>\n",
       "      <td>-1.203678e+00</td>\n",
       "      <td>-1.639681</td>\n",
       "    </tr>\n",
       "    <tr>\n",
       "      <th>29997</th>\n",
       "      <td>1662</td>\n",
       "      <td>0.429312</td>\n",
       "      <td>1.692392</td>\n",
       "      <td>-0.979143</td>\n",
       "      <td>1.451370e-01</td>\n",
       "      <td>-1.589705</td>\n",
       "      <td>-0.548956</td>\n",
       "      <td>5</td>\n",
       "      <td>-1.041876</td>\n",
       "      <td>0</td>\n",
       "      <td>-0.160237</td>\n",
       "      <td>-3.278522e-16</td>\n",
       "      <td>-0.866601</td>\n",
       "    </tr>\n",
       "    <tr>\n",
       "      <th>29998</th>\n",
       "      <td>1330</td>\n",
       "      <td>-0.397552</td>\n",
       "      <td>1.717105</td>\n",
       "      <td>-2.299865</td>\n",
       "      <td>1.210364e-01</td>\n",
       "      <td>-1.940966</td>\n",
       "      <td>2.201793</td>\n",
       "      <td>7</td>\n",
       "      <td>-1.954453</td>\n",
       "      <td>0</td>\n",
       "      <td>-0.461204</td>\n",
       "      <td>-1.571470e+00</td>\n",
       "      <td>-1.653752</td>\n",
       "    </tr>\n",
       "    <tr>\n",
       "      <th>29999</th>\n",
       "      <td>2219</td>\n",
       "      <td>-0.810984</td>\n",
       "      <td>1.132233</td>\n",
       "      <td>-0.302273</td>\n",
       "      <td>-1.610885e+00</td>\n",
       "      <td>-1.438548</td>\n",
       "      <td>2.201793</td>\n",
       "      <td>11</td>\n",
       "      <td>-1.293963</td>\n",
       "      <td>1</td>\n",
       "      <td>-0.496549</td>\n",
       "      <td>2.459658e-01</td>\n",
       "      <td>0.693229</td>\n",
       "    </tr>\n",
       "  </tbody>\n",
       "</table>\n",
       "<p>30000 rows × 13 columns</p>\n",
       "</div>"
      ],
      "text/plain": [
       "       artist_name  popularity  acousticness  danceability   duration_ms  \\\n",
       "0              531   -0.259741     -0.970532      0.935904  3.683534e-01   \n",
       "1             1511   -0.948794     -0.034765      1.034959 -1.338391e+00   \n",
       "2              582    0.222596     -0.937884      0.704778 -1.061077e-16   \n",
       "3             3210   -0.604268      1.533131     -0.313279 -1.677218e-01   \n",
       "4             2874   -0.810984     -0.892852     -0.373812  9.009268e-01   \n",
       "...            ...         ...           ...           ...           ...   \n",
       "29995         4924   -1.775658      1.513910     -1.182754  1.142242e+00   \n",
       "29996         3176   -1.500037      1.662188     -2.283356  2.505257e+00   \n",
       "29997         1662    0.429312      1.692392     -0.979143  1.451370e-01   \n",
       "29998         1330   -0.397552      1.717105     -2.299865  1.210364e-01   \n",
       "29999         2219   -0.810984      1.132233     -0.302273 -1.610885e+00   \n",
       "\n",
       "         energy  instrumentalness  key  loudness  mode  speechiness  \\\n",
       "0      0.231381         -0.458783   10  0.381203     0    -0.489052   \n",
       "1     -0.150111         -0.527946    3 -0.009655     0     1.072549   \n",
       "2      1.181513          2.122853   10  0.431391     1    -0.493336   \n",
       "3     -1.754179         -0.548746    8 -0.785474     0    -0.527610   \n",
       "4      0.958376          0.805165   10  0.496821     0    -0.223430   \n",
       "...         ...               ...  ...       ...   ...          ...   \n",
       "29995 -1.524924         -0.548956   10 -1.497445     0    -0.301617   \n",
       "29996 -1.269396          2.089455    2 -0.919499     0    -0.475128   \n",
       "29997 -1.589705         -0.548956    5 -1.041876     0    -0.160237   \n",
       "29998 -1.940966          2.201793    7 -1.954453     0    -0.461204   \n",
       "29999 -1.438548          2.201793   11 -1.293963     1    -0.496549   \n",
       "\n",
       "              tempo   valence  \n",
       "0      8.398059e-01  0.644987  \n",
       "1     -1.288258e+00 -0.641471  \n",
       "2     -3.278522e-16  0.761572  \n",
       "3     -1.194425e+00 -0.967105  \n",
       "4     -4.409188e-01 -0.255534  \n",
       "...             ...       ...  \n",
       "29995 -8.728649e-01 -0.967105  \n",
       "29996 -1.203678e+00 -1.639681  \n",
       "29997 -3.278522e-16 -0.866601  \n",
       "29998 -1.571470e+00 -1.653752  \n",
       "29999  2.459658e-01  0.693229  \n",
       "\n",
       "[30000 rows x 13 columns]"
      ]
     },
     "execution_count": 681,
     "metadata": {},
     "output_type": "execute_result"
    }
   ],
   "source": [
    "data_set = data_set.drop(['liveness'], axis = 1)\n",
    "data_set"
   ]
  },
  {
   "cell_type": "markdown",
   "id": "890720de",
   "metadata": {},
   "source": [
    "# Phase Two: Model Training, Evaluation and Hyper Parameter Tuning\n",
    "-------------------------"
   ]
  },
  {
   "cell_type": "markdown",
   "id": "2e418582",
   "metadata": {},
   "source": [
    "## Q1: The first step is to divide the data into two categories: train and test. One method is to consider the first P percent of the data for the train and the rest for the test. What number do you choose for P? Do I need to split the data randomly? Why? Is it necessary for the ratio of the number of data related to each music genre to the total data in the training and testing data to be equal?\n",
    "The simplest way to split the modelling dataset into training and testing sets is to assign 2/3 data points to the former and the remaining one-third to the latter. Therefore, we train the model using the training set and then apply the model to the test set. In this way, we can evaluate the performance of our model. For instance, if the training accuracy is extremely high while the testing accuracy is poor then this is a good indicator that the model is probably overfitted.<br/>\n",
    "common split percentages include:<br/>\n",
    "Train: 80%, Test: 20%<br/>\n",
    "Train: 67%, Test: 33%<br/>\n",
    "Train: 50%, Test: 50%<br/>\n",
    "with less training data, your parameter estimates have greater variance. With less testing data, your performance statistic will have greater variance.<br/>\n",
    "\n",
    "Another important consideration is that rows are assigned to the train and test sets randomly.\n",
    "This is done to ensure that datasets are a representative sample (e.g. random sample) of the original dataset, which in turn, should be a representative sample of observations from the problem domain.\n",
    "When comparing machine learning algorithms, it is desirable (perhaps required) that they are fit and evaluated on the same subsets of the dataset.\n",
    "This can be achieved by fixing the seed for the pseudo-random number generator used when splitting the dataset.<br/>\n",
    "\n",
    "Some classification problems do not have a balanced number of examples for each class label. As such, it is desirable to split the dataset into train and test sets in a way that preserves the same proportions of examples in each class as observed in the original dataset.\n",
    "This is called a stratified train-test split.\n",
    "We can achieve this by setting the “stratify” argument to the y component of the original dataset. This will be used by the train_test_split() function to ensure that both the train and test sets have the proportion of examples in each class that is present in the provided “y” array.<br/>\n",
    "\n",
    "So we use stratify to have every `music_genre` in both train and test set but it doesn't need to make them equal. They can be near to each other."
   ]
  },
  {
   "cell_type": "markdown",
   "id": "053aa4c6",
   "metadata": {},
   "source": [
    "## Q2: Divide the data into two categories: train and test"
   ]
  },
  {
   "cell_type": "code",
   "execution_count": 682,
   "id": "57bc819f",
   "metadata": {},
   "outputs": [
    {
     "data": {
      "text/plain": [
       "(20100, 9900, 20100, 9900)"
      ]
     },
     "execution_count": 682,
     "metadata": {},
     "output_type": "execute_result"
    }
   ],
   "source": [
    "X_train, X_test, y_train, y_test = train_test_split(data_set, y, test_size=0.33, random_state=1, stratify=y)\n",
    "len(X_train), len(X_test), len(y_train), len(y_test)"
   ]
  },
  {
   "cell_type": "markdown",
   "id": "247dcc21",
   "metadata": {},
   "source": [
    "## Q3: For the KNN model, draw a model accuracy chart (for test and train data) based on the number of neighbors hyper parameter and check and analyze the overfitting on this chart."
   ]
  },
  {
   "cell_type": "code",
   "execution_count": 683,
   "id": "3443bd19",
   "metadata": {},
   "outputs": [
    {
     "data": {
      "text/plain": [
       "Text(0, 0.5, 'Accuracy')"
      ]
     },
     "execution_count": 683,
     "metadata": {},
     "output_type": "execute_result"
    },
    {
     "data": {
      "image/png": "[encoded data removed]",
      "text/plain": [
       "<Figure size 432x288 with 1 Axes>"
      ]
     },
     "metadata": {
      "needs_background": "light"
     },
     "output_type": "display_data"
    }
   ],
   "source": [
    "# KNN based on n_neighbors\n",
    "true_pred_count_test = []\n",
    "true_pred_count_train = []\n",
    "range_n_neighbor = range(1, 100)\n",
    "\n",
    "for n in range_n_neighbor:\n",
    "    knn = KNeighborsClassifier(n_neighbors = n)\n",
    "    knn.fit(X_train, y_train)\n",
    "    \n",
    "    y_pred_test_knn = knn.predict(X_test)\n",
    "    true_pred_count_test.append(np.sum(y_pred_test_knn == y_test)/len(X_test))\n",
    "    \n",
    "    y_pred_train_knn = knn.predict(X_train)\n",
    "    true_pred_count_train.append(np.sum(y_pred_train_knn == y_train)/len(X_train))\n",
    "\n",
    "plt.plot(range_n_neighbor, true_pred_count_test, color='red', markersize=10, label='test')\n",
    "plt.plot(range_n_neighbor, true_pred_count_train, color='blue', markersize=10, label='train')\n",
    "\n",
    "plt.title('Accuracy in KNN model')\n",
    "plt.xlabel('n_neighbor')\n",
    "plt.ylabel('Accuracy')"
   ]
  },
  {
   "cell_type": "markdown",
   "id": "82dc47a0",
   "metadata": {},
   "source": [
    "## Q4: Tree Decision Model Set the parameters `depth_max` and `leaf_samples_min`. Then, like the previous question, draw the accuracy chart in terms of hyper-parameters.\n",
    "<b>min_samples_leaf</b>(int or float, default=1):The minimum number of samples required to be at a leaf node.<br/>\n",
    "<b>max_depth</b>(int, default=None):The maximum depth of the tree. If None, then nodes are expanded until all leaves are pure or until all leaves contain less than min_samples_split samples.<br/>\n",
    "\n",
    "`min_samples_leaf` doesn't affect seriously on the accuracy for a specialized max_depth according to the chart below but `max_depth` is so important for that."
   ]
  },
  {
   "cell_type": "code",
   "execution_count": 684,
   "id": "ece62517",
   "metadata": {},
   "outputs": [
    {
     "data": {
      "text/plain": [
       "Text(0, 0.5, 'Accuracy')"
      ]
     },
     "execution_count": 684,
     "metadata": {},
     "output_type": "execute_result"
    },
    {
     "data": {
      "image/png": "[encoded data removed]",
      "text/plain": [
       "<Figure size 432x288 with 1 Axes>"
      ]
     },
     "metadata": {
      "needs_background": "light"
     },
     "output_type": "display_data"
    }
   ],
   "source": [
    "# Decision Tree chart based on max_depth\n",
    "true_pred_count_test = []\n",
    "true_pred_count_train = []\n",
    "range_max_depth = range(1, 30)\n",
    "\n",
    "for n in range_max_depth:\n",
    "    decision_tree = DecisionTreeClassifier(max_depth = n)\n",
    "    decision_tree.fit(X_train, y_train)\n",
    "    \n",
    "    y_pred_test_DT = decision_tree.predict(X_test)\n",
    "    true_pred_count_test.append(np.sum(y_pred_test_DT == y_test)/len(X_test))\n",
    "    \n",
    "    y_pred_train_DT = decision_tree.predict(X_train)\n",
    "    true_pred_count_train.append(np.sum(y_pred_train_DT == y_train)/len(X_train))\n",
    "    \n",
    "\n",
    "plt.plot(range_max_depth, true_pred_count_test, color='red', markersize=10, label='test')\n",
    "plt.plot(range_max_depth, true_pred_count_train, color='blue', markersize=10, label='train')\n",
    "\n",
    "plt.title('Accuracy in Decision Tree model')\n",
    "plt.xlabel('max_depth')\n",
    "plt.ylabel('Accuracy')"
   ]
  },
  {
   "cell_type": "code",
   "execution_count": 685,
   "id": "c48e3515",
   "metadata": {},
   "outputs": [
    {
     "data": {
      "text/plain": [
       "Text(0, 0.5, 'Accuracy')"
      ]
     },
     "execution_count": 685,
     "metadata": {},
     "output_type": "execute_result"
    },
    {
     "data": {
      "image/png": "[encoded data removed]",
      "text/plain": [
       "<Figure size 432x288 with 1 Axes>"
      ]
     },
     "metadata": {
      "needs_background": "light"
     },
     "output_type": "display_data"
    }
   ],
   "source": [
    "# Decision Tree chart based on min_samples_leaf\n",
    "true_pred_count_test = []\n",
    "true_pred_count_train = []\n",
    "range_min_samples_leaf = range(1, 100)\n",
    "\n",
    "for n in range_min_samples_leaf:\n",
    "    decision_tree = DecisionTreeClassifier(max_depth = 9, min_samples_leaf=n)\n",
    "    decision_tree.fit(X_train, y_train)\n",
    "    \n",
    "    y_pred_test_DT = decision_tree.predict(X_test)\n",
    "    true_pred_count_test.append(np.sum(y_pred_test_DT == y_test)/len(X_test))\n",
    "    \n",
    "    y_pred_train_DT = decision_tree.predict(X_train)\n",
    "    true_pred_count_train.append(np.sum(y_pred_train_DT == y_train)/len(X_train))\n",
    "    \n",
    "\n",
    "plt.plot(range_min_samples_leaf, true_pred_count_test, color='red', markersize=10, label='test')\n",
    "plt.plot(range_min_samples_leaf, true_pred_count_train, color='blue', markersize=10, label='train')\n",
    "\n",
    "plt.title('Accuracy in Decision Tree model')\n",
    "plt.xlabel('min_samples_leaf')\n",
    "plt.ylabel('Accuracy')"
   ]
  },
  {
   "cell_type": "markdown",
   "id": "0aca2047",
   "metadata": {},
   "source": [
    "## Q5: Investigate underfitting and overfitting and see if your models have underfitting or overfitting.\n",
    "terms like overfitting and underfitting refer to deficiencies that the model’s performance might suffer from. This means that knowing “how off” the model’s predictions are is a matter of knowing how close it is to overfitting or underfitting.<br/>\n",
    "\n",
    "<b>Overfitting</b><br/>\n",
    "When we run our training algorithm on the data set, we allow the overall cost (i.e. distance from each point to the line) to become smaller with more iterations. Leaving this training algorithm run for long leads to minimal overall cost. However, this means that the line will be fit into all the points (including noise), catching secondary patterns that may not be needed for the generalizability of the model. Overfitting is the case where the overall cost is really small, but the generalization of the model is unreliable. This is due to the model learning “too much” from the training data set.<br/>\n",
    "\n",
    "<b>Underfitting</b><br/>\n",
    "We want the model to learn from the training data, but we don’t want it to learn too much (i.e. too many patterns). One solution could be to stop the training earlier. However, this could lead the model to not learn enough patterns from the training data, and possibly not even capture the dominant trend. This case is called underfitting. Underfitting is the case where the model has “ not learned enough” from the training data, resulting in low generalization and unreliable predictions.<br/>\n",
    "\n",
    "<b>Decision Tree</b>:<br/>\n",
    "Shallow decision trees (e.g. few levels) generally do not overfit but have poor performance (high bias, low variance). Whereas deep trees (e.g. many levels) generally do overfit and have good performance (low bias, high variance). A desirable tree is one that is not so shallow that it has low skill and not so deep that it overfits the training dataset. The expectation is that as the depth of the tree increases, performance on train and test will improve to a point, and as the tree gets too deep, it will begin to overfit the training dataset at the expense of worse performance on the holdout test set. The plot clearly shows that increasing the tree depth in the early stages results in a corresponding improvement in both train and test sets.\n",
    "\n",
    "<b>KNN</b>:<br/>\n",
    "For KNN, as we see in the chart, little max_depth can make underfitting and in large max_depth, the accuracy decreases and it make overfitting too. So a middle max_depth might be useful for this model."
   ]
  },
  {
   "cell_type": "markdown",
   "id": "02338c78",
   "metadata": {},
   "source": [
    "## Q6: Explain the Recall, Precision, Accuracy and Score F1 criteria and measure the accuracy of each model based on these criteria for test and train data.\n",
    "`precision` equals to what proportion of predicted Positives is truly Positive<br/>\n",
    "`recall` equals to what proportion of actual Positives is correctly classified<br/>\n",
    "`f1`, which is actually a balanced combination of accuracy and precision criteria, can be used in cases where the cost of FP and FN is different.<br/>\n",
    "`accuracy` is how close or far off a given set of measurements (observations or readings) are to their true value,"
   ]
  },
  {
   "cell_type": "code",
   "execution_count": 686,
   "id": "1f8755a8",
   "metadata": {},
   "outputs": [
    {
     "name": "stdout",
     "output_type": "stream",
     "text": [
      "recall for train set in Decision Tree =    0.716865671641791\n",
      "recall for test set in Decision Tree =     0.6421212121212121\n",
      "\n",
      "f1 for train set in Decision Tree =        0.7153191915790633\n",
      "f1 for test set in Decision Tree =         0.6370598916242344\n",
      "\n",
      "precision for train set in Decision Tree = 0.7216832427918525\n",
      "precision for test set in Decision Tree =  0.6410389067026115\n",
      "\n",
      "accuracy for train set in Decision Tree =  0.716865671641791\n",
      "accuracy for test set in Decision Tree =   0.6421212121212121\n"
     ]
    }
   ],
   "source": [
    "# For Decision Tree\n",
    "\n",
    "curr_test_decision_tree = DecisionTreeClassifier(max_depth = 9, min_samples_leaf=60)\n",
    "curr_test_decision_tree.fit(X_train, y_train)\n",
    "curr_y_pred_test_DT = curr_test_decision_tree.predict(X_test)\n",
    "curr_true_pred_count_test = np.sum(curr_y_pred_test_DT == y_test)/len(X_test)\n",
    "\n",
    "curr_train_decision_tree = DecisionTreeClassifier(max_depth = 9, min_samples_leaf=1)\n",
    "curr_train_decision_tree.fit(X_train, y_train)\n",
    "curr_y_pred_train_DT = curr_train_decision_tree.predict(X_train)\n",
    "curr_true_pred_count_train = np.sum(curr_y_pred_train_DT == y_train)/len(X_train)\n",
    "\n",
    "print('recall for train set in Decision Tree =    ' + str(recall_score(y_train, curr_y_pred_train_DT, average='weighted')))\n",
    "print('recall for test set in Decision Tree =     ' + str(recall_score(y_test, curr_y_pred_test_DT, average='weighted')))\n",
    "print()\n",
    "\n",
    "print('f1 for train set in Decision Tree =        ' + str(f1_score(y_train, curr_y_pred_train_DT, average='weighted')))\n",
    "print('f1 for test set in Decision Tree =         ' + str(f1_score(y_test, curr_y_pred_test_DT, average='weighted')))\n",
    "print()\n",
    "\n",
    "print('precision for train set in Decision Tree = ' + str(precision_score(y_train, curr_y_pred_train_DT, average='weighted')))\n",
    "print('precision for test set in Decision Tree =  ' + str(precision_score(y_test, curr_y_pred_test_DT, average='weighted')))\n",
    "print()\n",
    "\n",
    "print('accuracy for train set in Decision Tree =  ' + str(accuracy_score(y_train, curr_y_pred_train_DT)))\n",
    "print('accuracy for test set in Decision Tree =   ' + str(accuracy_score(y_test, curr_y_pred_test_DT)))"
   ]
  },
  {
   "cell_type": "code",
   "execution_count": 687,
   "id": "d214a9dd",
   "metadata": {},
   "outputs": [
    {
     "name": "stdout",
     "output_type": "stream",
     "text": [
      "recall for train set in KNN =    0.6586567164179105\n",
      "recall for test set in KNN =     0.6044444444444445\n",
      "\n",
      "f1 for train set in KNN =        0.6561259972161977\n",
      "f1 for test set in KNN =         0.6009769967550543\n",
      "\n",
      "precision for train set in KNN = 0.6620536065388898\n",
      "precision for test set in KNN =  0.6063630464068807\n",
      "\n",
      "accuracy for train set in KNN =  0.6586567164179105\n",
      "accuracy for test set in KNN =   0.6044444444444445\n"
     ]
    }
   ],
   "source": [
    "# For KNN\n",
    "\n",
    "curr_test_knn = KNeighborsClassifier(n_neighbors = 15)\n",
    "curr_test_knn.fit(X_train, y_train)\n",
    "curr_y_pred_test_knn = curr_test_knn.predict(X_test)\n",
    "curr_true_pred_count_test = np.sum(curr_y_pred_test_knn == y_test)/len(X_test)\n",
    "\n",
    "curr_train_knn = KNeighborsClassifier(n_neighbors = 15)\n",
    "curr_train_knn.fit(X_train, y_train)\n",
    "curr_y_pred_train_knn = curr_train_knn.predict(X_train)\n",
    "curr_true_pred_count_train = np.sum(curr_y_pred_train_knn == y_train)/len(X_train)\n",
    "\n",
    "print('recall for train set in KNN =    ' + str(recall_score(y_train, curr_y_pred_train_knn, average='weighted')))\n",
    "print('recall for test set in KNN =     ' + str(recall_score(y_test, curr_y_pred_test_knn, average='weighted')))\n",
    "print()\n",
    "\n",
    "print('f1 for train set in KNN =        ' + str(f1_score(y_train, curr_y_pred_train_knn, average='weighted')))\n",
    "print('f1 for test set in KNN =         ' + str(f1_score(y_test, curr_y_pred_test_knn, average='weighted')))\n",
    "print()\n",
    "\n",
    "print('precision for train set in KNN = ' + str(precision_score(y_train, curr_y_pred_train_knn, average='weighted')))\n",
    "print('precision for test set in KNN =  ' + str(precision_score(y_test, curr_y_pred_test_knn, average='weighted')))\n",
    "print()\n",
    "\n",
    "print('accuracy for train set in KNN =  ' + str(accuracy_score(y_train, curr_y_pred_train_knn)))\n",
    "print('accuracy for test set in KNN =   ' + str(accuracy_score(y_test, curr_y_pred_test_knn)))"
   ]
  },
  {
   "cell_type": "markdown",
   "id": "e34b4850",
   "metadata": {},
   "source": [
    "## Q7: Examine the impact of the preprocessing you did on the data thoroughly.\n",
    "I calculated precision, accuracy, recall and f1 with all columns and they were around 50% but with dropping some columns and keeping columns with larger IG, it's being around 60%. Also we have a good criterion named IG that help us to pick better columns for our processing. Some operators like replacing NANs with mean and mode doesn't have negative effect on data and it helps to use all columns with goof IG instead of dropping them. Preprocessing helps us to normalize data on a specified range of x to enable us to compare them with each other. also we can affect on overfitting and underfitting by preprocessing."
   ]
  },
  {
   "cell_type": "markdown",
   "id": "4982d4af",
   "metadata": {},
   "source": [
    "# Phase Three: Ensemble Methods\n",
    "-------------------------"
   ]
  },
  {
   "cell_type": "markdown",
   "id": "65080cee",
   "metadata": {},
   "source": [
    "## Q1: Implement `Random Forest` with the help of the Learn-Scikit library.\n",
    "A random forest is a meta estimator that fits a number of decision tree classifiers on various sub-samples of the dataset and uses averaging to improve the predictive accuracy and control over-fitting.<br/>"
   ]
  },
  {
   "cell_type": "code",
   "execution_count": 688,
   "id": "f4dd2cbc",
   "metadata": {},
   "outputs": [
    {
     "data": {
      "text/plain": [
       "Text(0, 0.5, 'Accuracy')"
      ]
     },
     "execution_count": 688,
     "metadata": {},
     "output_type": "execute_result"
    },
    {
     "data": {
      "image/png": "[encoded data removed]",
      "text/plain": [
       "<Figure size 432x288 with 1 Axes>"
      ]
     },
     "metadata": {
      "needs_background": "light"
     },
     "output_type": "display_data"
    }
   ],
   "source": [
    "# Random Forest chart based on max_depth\n",
    "true_pred_count_test = []\n",
    "true_pred_count_train = []\n",
    "range_max_depth = range(1, 30)\n",
    "\n",
    "for n in range_max_depth:\n",
    "    random_forest = RandomForestClassifier(max_depth = n)\n",
    "    random_forest.fit(X_train, y_train)\n",
    "    \n",
    "    y_pred_test_rf = random_forest.predict(X_test)\n",
    "    true_pred_count_test.append(np.sum(y_pred_test_rf == y_test)/len(X_test))\n",
    "    \n",
    "    y_pred_train_rf = random_forest.predict(X_train)\n",
    "    true_pred_count_train.append(np.sum(y_pred_train_rf == y_train)/len(X_train))\n",
    "    \n",
    "\n",
    "plt.plot(range_max_depth, true_pred_count_test, color='red', markersize=10, label='test')\n",
    "plt.plot(range_max_depth, true_pred_count_train, color='blue', markersize=10, label='train')\n",
    "\n",
    "plt.title('Accuracy in Random Forest model')\n",
    "plt.xlabel('max_depth')\n",
    "plt.ylabel('Accuracy')"
   ]
  },
  {
   "cell_type": "code",
   "execution_count": 689,
   "id": "e0477eb4",
   "metadata": {},
   "outputs": [
    {
     "data": {
      "text/plain": [
       "Text(0, 0.5, 'Accuracy')"
      ]
     },
     "execution_count": 689,
     "metadata": {},
     "output_type": "execute_result"
    },
    {
     "data": {
      "image/png": "[encoded data removed]",
      "text/plain": [
       "<Figure size 432x288 with 1 Axes>"
      ]
     },
     "metadata": {
      "needs_background": "light"
     },
     "output_type": "display_data"
    }
   ],
   "source": [
    "# Random Forest chart based on min_samples_leaf\n",
    "true_pred_count_test = []\n",
    "true_pred_count_train = []\n",
    "range_min_samples_leaf = range(1, 50)\n",
    "\n",
    "for n in range_min_samples_leaf:\n",
    "    random_forest = RandomForestClassifier(max_depth = 10, min_samples_leaf=n)\n",
    "    random_forest.fit(X_train, y_train)\n",
    "    \n",
    "    y_pred_test_rf = random_forest.predict(X_test)\n",
    "    true_pred_count_test.append(np.sum(y_pred_test_rf == y_test)/len(X_test))\n",
    "    \n",
    "    y_pred_train_rf = random_forest.predict(X_train)\n",
    "    true_pred_count_train.append(np.sum(y_pred_train_rf == y_train)/len(X_train))\n",
    "    \n",
    "\n",
    "plt.plot(range_min_samples_leaf, true_pred_count_test, color='red', markersize=10, label='test')\n",
    "plt.plot(range_min_samples_leaf, true_pred_count_train, color='blue', markersize=10, label='train')\n",
    "\n",
    "plt.title('Accuracy in Random Forest model')\n",
    "plt.xlabel('min_samples_leaf')\n",
    "plt.ylabel('Accuracy')"
   ]
  },
  {
   "cell_type": "code",
   "execution_count": 690,
   "id": "b6154820",
   "metadata": {},
   "outputs": [
    {
     "data": {
      "text/plain": [
       "Text(0, 0.5, 'Accuracy')"
      ]
     },
     "execution_count": 690,
     "metadata": {},
     "output_type": "execute_result"
    },
    {
     "data": {
      "image/png": "[encoded data removed]",
      "text/plain": [
       "<Figure size 432x288 with 1 Axes>"
      ]
     },
     "metadata": {
      "needs_background": "light"
     },
     "output_type": "display_data"
    }
   ],
   "source": [
    "# Random Forest chart based on min_samples_leaf\n",
    "true_pred_count_test = []\n",
    "true_pred_count_train = []\n",
    "range_n_estimators = range(1, 100)\n",
    "\n",
    "for n in range_n_estimators:\n",
    "    random_forest = RandomForestClassifier(n_estimators=n, max_depth = 10, min_samples_leaf=10)\n",
    "    random_forest.fit(X_train, y_train)\n",
    "    \n",
    "    y_pred_test_rf = random_forest.predict(X_test)\n",
    "    true_pred_count_test.append(np.sum(y_pred_test_rf == y_test)/len(X_test))\n",
    "    \n",
    "    y_pred_train_rf = random_forest.predict(X_train)\n",
    "    true_pred_count_train.append(np.sum(y_pred_train_rf == y_train)/len(X_train))\n",
    "    \n",
    "\n",
    "plt.plot(range_n_estimators, true_pred_count_test, color='red', markersize=10, label='test')\n",
    "plt.plot(range_n_estimators, true_pred_count_train, color='blue', markersize=10, label='train')\n",
    "\n",
    "plt.title('Accuracy in Random Forest model')\n",
    "plt.xlabel('n_estimators')\n",
    "plt.ylabel('Accuracy')"
   ]
  },
  {
   "cell_type": "markdown",
   "id": "8712b6f7",
   "metadata": {},
   "source": [
    "## Q2: Examine the effect of depth max hyper parameters, estimators n and leaf_samples_min on this model and explain them.\n",
    "<b>min_samples_leaf</b>(int or float, default=1): The minimum number of samples required to be at a leaf node. A split point at any depth will only be considered if it leaves at least min_samples_leaf training samples in each of the left and right branches. This may have the effect of smoothing the model, especially in regression.<br/>\n",
    "<b>max_depth</b>(int, default=None): The maximum depth of the tree. If None, then nodes are expanded until all leaves are pure or until all leaves contain less than min_samples_split samples.<br/>\n",
    "<b>n_estimators</b>(int, default=100): The number of trees in the forest.<br/>\n",
    "\n",
    "According to the charts above, `n_estimators` and `max_depth` have more effect than `min_samples_leaf`"
   ]
  },
  {
   "cell_type": "markdown",
   "id": "77cb225a",
   "metadata": {},
   "source": [
    "## Q3: Measure the accuracy of your model using the Recall, Precision, Accuracy and Score F1 criteria."
   ]
  },
  {
   "cell_type": "code",
   "execution_count": 691,
   "id": "199c68f4",
   "metadata": {},
   "outputs": [
    {
     "name": "stdout",
     "output_type": "stream",
     "text": [
      "recall for train set in Random Forest =    0.7713432835820896\n",
      "recall for test set in Random Forest =     0.6918181818181818\n",
      "\n",
      "f1 for train set in Random Forest =        0.769320601618762\n",
      "f1 for test set in Random Forest =         0.6861591495142362\n",
      "\n",
      "precision for train set in Random Forest = 0.7864634286898223\n",
      "precision for test set in Random Forest =  0.6993359065674396\n",
      "\n",
      "accuracy for train set in Random Forest =  0.7713432835820896\n",
      "accuracy for test set in Random Forest =   0.6918181818181818\n"
     ]
    }
   ],
   "source": [
    "# For Random Forest\n",
    "\n",
    "rf = RandomForestClassifier(n_estimators=25, max_depth = 10, min_samples_leaf=1)\n",
    "rf.fit(X_train, y_train)\n",
    "\n",
    "y_pred_test_rf = rf.predict(X_test)\n",
    "true_pred_count_test.append(np.sum(y_pred_test_rf == y_test)/len(X_test))\n",
    "\n",
    "y_pred_train_rf = rf.predict(X_train)\n",
    "true_pred_count_train.append(np.sum(y_pred_train_rf == y_train)/len(X_train))\n",
    "    \n",
    "print('recall for train set in Random Forest =    ' + str(recall_score(y_train, y_pred_train_rf, average='weighted')))\n",
    "print('recall for test set in Random Forest =     ' + str(recall_score(y_test, y_pred_test_rf, average='weighted')))\n",
    "print()\n",
    "\n",
    "print('f1 for train set in Random Forest =        ' + str(f1_score(y_train, y_pred_train_rf, average='weighted')))\n",
    "print('f1 for test set in Random Forest =         ' + str(f1_score(y_test, y_pred_test_rf, average='weighted')))\n",
    "print()\n",
    "\n",
    "print('precision for train set in Random Forest = ' + str(precision_score(y_train, y_pred_train_rf, average='weighted')))\n",
    "print('precision for test set in Random Forest =  ' + str(precision_score(y_test, y_pred_test_rf, average='weighted')))\n",
    "print()\n",
    "\n",
    "print('accuracy for train set in Random Forest =  ' + str(accuracy_score(y_train, y_pred_train_rf)))\n",
    "print('accuracy for test set in Random Forest =   ' + str(accuracy_score(y_test, y_pred_test_rf)))    "
   ]
  },
  {
   "cell_type": "markdown",
   "id": "7c2b481a",
   "metadata": {},
   "source": [
    "## Q4: After finding the optimal hyperparameters, show your model Matrix Confusion.\n",
    "The confusion_matrix function evaluates classification accuracy by computing the confusion matrix with each row corresponding to the true class "
   ]
  },
  {
   "cell_type": "code",
   "execution_count": 692,
   "id": "5c6f405e",
   "metadata": {},
   "outputs": [
    {
     "data": {
      "text/plain": [
       "array([[1671,    2,  400,  210,  317,  750],\n",
       "       [ 101, 3069,   29,  134,    1,   16],\n",
       "       [ 167,    0, 2227,  165,   82,  709],\n",
       "       [  82,   76,  182, 2825,   62,  123],\n",
       "       [  69,    0,   19,   13, 2813,  436],\n",
       "       [ 112,    1,   95,   35,  208, 2899]], dtype=int64)"
      ]
     },
     "execution_count": 692,
     "metadata": {},
     "output_type": "execute_result"
    }
   ],
   "source": [
    "confusion_matrix(y_train, rf.predict(X_train))"
   ]
  },
  {
   "cell_type": "code",
   "execution_count": 693,
   "id": "b4e64baa",
   "metadata": {},
   "outputs": [
    {
     "data": {
      "text/plain": [
       "array([[ 596,    4,  231,  158,  217,  444],\n",
       "       [  43, 1452,   19,  129,    0,    7],\n",
       "       [ 117,    1, 1003,  109,   56,  364],\n",
       "       [  87,  129,  116, 1196,   38,   84],\n",
       "       [  55,    0,   10,   18, 1310,  257],\n",
       "       [ 110,    3,   66,   48,  131, 1292]], dtype=int64)"
      ]
     },
     "execution_count": 693,
     "metadata": {},
     "output_type": "execute_result"
    }
   ],
   "source": [
    "confusion_matrix(y_test, rf.predict(X_test))"
   ]
  }
 ],
 "metadata": {
  "kernelspec": {
   "display_name": "Python 3 (ipykernel)",
   "language": "python",
   "name": "python3"
  },
  "language_info": {
   "codemirror_mode": {
    "name": "ipython",
    "version": 3
   },
   "file_extension": ".py",
   "mimetype": "text/x-python",
   "name": "python",
   "nbconvert_exporter": "python",
   "pygments_lexer": "ipython3",
   "version": "3.10.2"
  }
 },
 "nbformat": 4,
 "nbformat_minor": 5
}
